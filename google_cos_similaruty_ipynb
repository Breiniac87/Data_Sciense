{
  "cells": [
    {
      "cell_type": "markdown",
      "metadata": {
        "id": "view-in-github",
        "colab_type": "text"
      },
      "source": [
        "<a href=\"https://colab.research.google.com/github/Breiniac87/Data_Sciense/blob/main/google_cos_similaruty_ipynb\" target=\"_parent\"><img src=\"https://colab.research.google.com/assets/colab-badge.svg\" alt=\"Open In Colab\"/></a>"
      ]
    },
    {
      "cell_type": "code",
      "execution_count": null,
      "metadata": {
        "colab": {
          "base_uri": "https://localhost:8080/",
          "height": 73
        },
        "id": "7JYGt4QLm9Rb",
        "outputId": "90200e07-7658-4b57-8b60-3ecbc6d00fcf"
      },
      "outputs": [
        {
          "data": {
            "text/html": [
              "\n",
              "     <input type=\"file\" id=\"files-263beffa-86a8-4392-91b1-27308b905285\" name=\"files[]\" multiple disabled\n",
              "        style=\"border:none\" />\n",
              "     <output id=\"result-263beffa-86a8-4392-91b1-27308b905285\">\n",
              "      Upload widget is only available when the cell has been executed in the\n",
              "      current browser session. Please rerun this cell to enable.\n",
              "      </output>\n",
              "      <script>// Copyright 2017 Google LLC\n",
              "//\n",
              "// Licensed under the Apache License, Version 2.0 (the \"License\");\n",
              "// you may not use this file except in compliance with the License.\n",
              "// You may obtain a copy of the License at\n",
              "//\n",
              "//      http://www.apache.org/licenses/LICENSE-2.0\n",
              "//\n",
              "// Unless required by applicable law or agreed to in writing, software\n",
              "// distributed under the License is distributed on an \"AS IS\" BASIS,\n",
              "// WITHOUT WARRANTIES OR CONDITIONS OF ANY KIND, either express or implied.\n",
              "// See the License for the specific language governing permissions and\n",
              "// limitations under the License.\n",
              "\n",
              "/**\n",
              " * @fileoverview Helpers for google.colab Python module.\n",
              " */\n",
              "(function(scope) {\n",
              "function span(text, styleAttributes = {}) {\n",
              "  const element = document.createElement('span');\n",
              "  element.textContent = text;\n",
              "  for (const key of Object.keys(styleAttributes)) {\n",
              "    element.style[key] = styleAttributes[key];\n",
              "  }\n",
              "  return element;\n",
              "}\n",
              "\n",
              "// Max number of bytes which will be uploaded at a time.\n",
              "const MAX_PAYLOAD_SIZE = 100 * 1024;\n",
              "\n",
              "function _uploadFiles(inputId, outputId) {\n",
              "  const steps = uploadFilesStep(inputId, outputId);\n",
              "  const outputElement = document.getElementById(outputId);\n",
              "  // Cache steps on the outputElement to make it available for the next call\n",
              "  // to uploadFilesContinue from Python.\n",
              "  outputElement.steps = steps;\n",
              "\n",
              "  return _uploadFilesContinue(outputId);\n",
              "}\n",
              "\n",
              "// This is roughly an async generator (not supported in the browser yet),\n",
              "// where there are multiple asynchronous steps and the Python side is going\n",
              "// to poll for completion of each step.\n",
              "// This uses a Promise to block the python side on completion of each step,\n",
              "// then passes the result of the previous step as the input to the next step.\n",
              "function _uploadFilesContinue(outputId) {\n",
              "  const outputElement = document.getElementById(outputId);\n",
              "  const steps = outputElement.steps;\n",
              "\n",
              "  const next = steps.next(outputElement.lastPromiseValue);\n",
              "  return Promise.resolve(next.value.promise).then((value) => {\n",
              "    // Cache the last promise value to make it available to the next\n",
              "    // step of the generator.\n",
              "    outputElement.lastPromiseValue = value;\n",
              "    return next.value.response;\n",
              "  });\n",
              "}\n",
              "\n",
              "/**\n",
              " * Generator function which is called between each async step of the upload\n",
              " * process.\n",
              " * @param {string} inputId Element ID of the input file picker element.\n",
              " * @param {string} outputId Element ID of the output display.\n",
              " * @return {!Iterable<!Object>} Iterable of next steps.\n",
              " */\n",
              "function* uploadFilesStep(inputId, outputId) {\n",
              "  const inputElement = document.getElementById(inputId);\n",
              "  inputElement.disabled = false;\n",
              "\n",
              "  const outputElement = document.getElementById(outputId);\n",
              "  outputElement.innerHTML = '';\n",
              "\n",
              "  const pickedPromise = new Promise((resolve) => {\n",
              "    inputElement.addEventListener('change', (e) => {\n",
              "      resolve(e.target.files);\n",
              "    });\n",
              "  });\n",
              "\n",
              "  const cancel = document.createElement('button');\n",
              "  inputElement.parentElement.appendChild(cancel);\n",
              "  cancel.textContent = 'Cancel upload';\n",
              "  const cancelPromise = new Promise((resolve) => {\n",
              "    cancel.onclick = () => {\n",
              "      resolve(null);\n",
              "    };\n",
              "  });\n",
              "\n",
              "  // Wait for the user to pick the files.\n",
              "  const files = yield {\n",
              "    promise: Promise.race([pickedPromise, cancelPromise]),\n",
              "    response: {\n",
              "      action: 'starting',\n",
              "    }\n",
              "  };\n",
              "\n",
              "  cancel.remove();\n",
              "\n",
              "  // Disable the input element since further picks are not allowed.\n",
              "  inputElement.disabled = true;\n",
              "\n",
              "  if (!files) {\n",
              "    return {\n",
              "      response: {\n",
              "        action: 'complete',\n",
              "      }\n",
              "    };\n",
              "  }\n",
              "\n",
              "  for (const file of files) {\n",
              "    const li = document.createElement('li');\n",
              "    li.append(span(file.name, {fontWeight: 'bold'}));\n",
              "    li.append(span(\n",
              "        `(${file.type || 'n/a'}) - ${file.size} bytes, ` +\n",
              "        `last modified: ${\n",
              "            file.lastModifiedDate ? file.lastModifiedDate.toLocaleDateString() :\n",
              "                                    'n/a'} - `));\n",
              "    const percent = span('0% done');\n",
              "    li.appendChild(percent);\n",
              "\n",
              "    outputElement.appendChild(li);\n",
              "\n",
              "    const fileDataPromise = new Promise((resolve) => {\n",
              "      const reader = new FileReader();\n",
              "      reader.onload = (e) => {\n",
              "        resolve(e.target.result);\n",
              "      };\n",
              "      reader.readAsArrayBuffer(file);\n",
              "    });\n",
              "    // Wait for the data to be ready.\n",
              "    let fileData = yield {\n",
              "      promise: fileDataPromise,\n",
              "      response: {\n",
              "        action: 'continue',\n",
              "      }\n",
              "    };\n",
              "\n",
              "    // Use a chunked sending to avoid message size limits. See b/62115660.\n",
              "    let position = 0;\n",
              "    do {\n",
              "      const length = Math.min(fileData.byteLength - position, MAX_PAYLOAD_SIZE);\n",
              "      const chunk = new Uint8Array(fileData, position, length);\n",
              "      position += length;\n",
              "\n",
              "      const base64 = btoa(String.fromCharCode.apply(null, chunk));\n",
              "      yield {\n",
              "        response: {\n",
              "          action: 'append',\n",
              "          file: file.name,\n",
              "          data: base64,\n",
              "        },\n",
              "      };\n",
              "\n",
              "      let percentDone = fileData.byteLength === 0 ?\n",
              "          100 :\n",
              "          Math.round((position / fileData.byteLength) * 100);\n",
              "      percent.textContent = `${percentDone}% done`;\n",
              "\n",
              "    } while (position < fileData.byteLength);\n",
              "  }\n",
              "\n",
              "  // All done.\n",
              "  yield {\n",
              "    response: {\n",
              "      action: 'complete',\n",
              "    }\n",
              "  };\n",
              "}\n",
              "\n",
              "scope.google = scope.google || {};\n",
              "scope.google.colab = scope.google.colab || {};\n",
              "scope.google.colab._files = {\n",
              "  _uploadFiles,\n",
              "  _uploadFilesContinue,\n",
              "};\n",
              "})(self);\n",
              "</script> "
            ],
            "text/plain": [
              "<IPython.core.display.HTML object>"
            ]
          },
          "metadata": {},
          "output_type": "display_data"
        },
        {
          "name": "stdout",
          "output_type": "stream",
          "text": [
            "Saving Очищен на 90%.xlsx to Очищен на 90% (2).xlsx\n"
          ]
        }
      ],
      "source": [
        "# из библиотеки google.colab импортируем класс files\n",
        "from google.colab import files\n",
        "\n",
        "# создаем объект этого класса, применяем метод .upload()\n",
        "upload = files.upload()"
      ]
    },
    {
      "cell_type": "code",
      "execution_count": null,
      "metadata": {
        "id": "jlgRsCX0oQs3"
      },
      "outputs": [],
      "source": [
        "# посмотрим на содержимое переменной uploaded\n",
        "# uploaded"
      ]
    },
    {
      "cell_type": "code",
      "execution_count": null,
      "metadata": {
        "colab": {
          "background_save": true
        },
        "id": "CneytFdSphPf",
        "outputId": "c00b1dd5-5189-4471-ba08-40596f579477"
      },
      "outputs": [
        {
          "ename": "NameError",
          "evalue": "name 'pd' is not defined",
          "output_type": "error",
          "traceback": [
            "\u001b[0;31m---------------------------------------------------------------------------\u001b[0m",
            "\u001b[0;31mNameError\u001b[0m                                 Traceback (most recent call last)",
            "\u001b[0;32m<ipython-input-1-6158d5075428>\u001b[0m in \u001b[0;36m<cell line: 1>\u001b[0;34m()\u001b[0m\n\u001b[0;32m----> 1\u001b[0;31m \u001b[0mpf\u001b[0m \u001b[0;34m=\u001b[0m \u001b[0mpd\u001b[0m\u001b[0;34m.\u001b[0m\u001b[0mread_excel\u001b[0m\u001b[0;34m(\u001b[0m\u001b[0mio\u001b[0m\u001b[0;34m.\u001b[0m\u001b[0mBytesIO\u001b[0m\u001b[0;34m(\u001b[0m\u001b[0mupload\u001b[0m\u001b[0;34m[\u001b[0m\u001b[0;34m'Очищен на 90% (2).xlsx'\u001b[0m\u001b[0;34m]\u001b[0m\u001b[0;34m)\u001b[0m\u001b[0;34m)\u001b[0m\u001b[0;34m\u001b[0m\u001b[0;34m\u001b[0m\u001b[0m\n\u001b[0m",
            "\u001b[0;31mNameError\u001b[0m: name 'pd' is not defined"
          ]
        }
      ],
      "source": [
        "pf = pd.read_excel(io.BytesIO(upload['Очищен на 90% (2).xlsx']))"
      ]
    },
    {
      "cell_type": "code",
      "execution_count": null,
      "metadata": {
        "colab": {
          "base_uri": "https://localhost:8080/",
          "height": 481
        },
        "id": "sSr83lOErDrw",
        "outputId": "edc53536-e6fa-45ef-848b-48975d3a7199"
      },
      "outputs": [
        {
          "data": {
            "application/vnd.google.colaboratory.intrinsic+json": {
              "type": "dataframe",
              "variable_name": "pf"
            },
            "text/html": [
              "\n",
              "  <div id=\"df-512e39f8-8ecd-426b-9f43-ac617cdd4ab7\" class=\"colab-df-container\">\n",
              "    <div>\n",
              "<style scoped>\n",
              "    .dataframe tbody tr th:only-of-type {\n",
              "        vertical-align: middle;\n",
              "    }\n",
              "\n",
              "    .dataframe tbody tr th {\n",
              "        vertical-align: top;\n",
              "    }\n",
              "\n",
              "    .dataframe thead th {\n",
              "        text-align: right;\n",
              "    }\n",
              "</style>\n",
              "<table border=\"1\" class=\"dataframe\">\n",
              "  <thead>\n",
              "    <tr style=\"text-align: right;\">\n",
              "      <th></th>\n",
              "      <th>id</th>\n",
              "      <th>Дата</th>\n",
              "      <th>Источник</th>\n",
              "      <th>Город</th>\n",
              "      <th>Заголовок</th>\n",
              "      <th>Тональность</th>\n",
              "      <th>Clusters</th>\n",
              "      <th>обработанный_текст</th>\n",
              "      <th>Аудитория</th>\n",
              "      <th>Вовлеченность</th>\n",
              "      <th>...</th>\n",
              "      <th>Просмотров</th>\n",
              "      <th>Регион</th>\n",
              "      <th>Репостов</th>\n",
              "      <th>Страна</th>\n",
              "      <th>Текст</th>\n",
              "      <th>Тип автора</th>\n",
              "      <th>Тип источника</th>\n",
              "      <th>Тип сообщения</th>\n",
              "      <th>Цитируемость СМИ</th>\n",
              "      <th>Язык</th>\n",
              "    </tr>\n",
              "  </thead>\n",
              "  <tbody>\n",
              "    <tr>\n",
              "      <th>0</th>\n",
              "      <td>1</td>\n",
              "      <td>08.10.2023 14:54</td>\n",
              "      <td>instagram.com</td>\n",
              "      <td>Зеленоградск</td>\n",
              "      <td>NaN</td>\n",
              "      <td>positive</td>\n",
              "      <td>3</td>\n",
              "      <td>хочется уехать на неделю в зеленоградск  снять...</td>\n",
              "      <td>700</td>\n",
              "      <td>0</td>\n",
              "      <td>...</td>\n",
              "      <td>NaN</td>\n",
              "      <td>Калининградская область</td>\n",
              "      <td>0</td>\n",
              "      <td>Россия</td>\n",
              "      <td>Хочется уехать на неделю в Зеленоградск, снять...</td>\n",
              "      <td>Личный профиль</td>\n",
              "      <td>Соцсети</td>\n",
              "      <td>Пост</td>\n",
              "      <td>NaN</td>\n",
              "      <td>Русский</td>\n",
              "    </tr>\n",
              "    <tr>\n",
              "      <th>1</th>\n",
              "      <td>2</td>\n",
              "      <td>08.10.2023 11:17</td>\n",
              "      <td>instagram.com</td>\n",
              "      <td>Зеленоградск</td>\n",
              "      <td>NaN</td>\n",
              "      <td>positive</td>\n",
              "      <td>3</td>\n",
              "      <td>прекрасные города зеленоградск и светлогорск н...</td>\n",
              "      <td>564</td>\n",
              "      <td>1</td>\n",
              "      <td>...</td>\n",
              "      <td>NaN</td>\n",
              "      <td>Калининградская область</td>\n",
              "      <td>0</td>\n",
              "      <td>Россия</td>\n",
              "      <td>Прекрасные города Зеленоградск и Светлогорск н...</td>\n",
              "      <td>Личный профиль</td>\n",
              "      <td>Соцсети</td>\n",
              "      <td>Пост</td>\n",
              "      <td>NaN</td>\n",
              "      <td>Русский</td>\n",
              "    </tr>\n",
              "    <tr>\n",
              "      <th>2</th>\n",
              "      <td>3</td>\n",
              "      <td>09.05.2023 22:38</td>\n",
              "      <td>instagram.com</td>\n",
              "      <td>Светлогорск</td>\n",
              "      <td>NaN</td>\n",
              "      <td>positive</td>\n",
              "      <td>3</td>\n",
              "      <td>светлогорск и зеленоградск   города  которым п...</td>\n",
              "      <td>210</td>\n",
              "      <td>0</td>\n",
              "      <td>...</td>\n",
              "      <td>NaN</td>\n",
              "      <td>Калининградская область</td>\n",
              "      <td>0</td>\n",
              "      <td>Россия</td>\n",
              "      <td>Светлогорск и Зеленоградск-  города, которым п...</td>\n",
              "      <td>Личный профиль</td>\n",
              "      <td>Соцсети</td>\n",
              "      <td>Пост</td>\n",
              "      <td>NaN</td>\n",
              "      <td>Русский</td>\n",
              "    </tr>\n",
              "    <tr>\n",
              "      <th>3</th>\n",
              "      <td>4</td>\n",
              "      <td>08.10.2023 10:02</td>\n",
              "      <td>instagram.com</td>\n",
              "      <td>Калининград</td>\n",
              "      <td>NaN</td>\n",
              "      <td>neutral</td>\n",
              "      <td>3</td>\n",
              "      <td>сказочные десерты с видом на море встречайте  ...</td>\n",
              "      <td>53426</td>\n",
              "      <td>0</td>\n",
              "      <td>...</td>\n",
              "      <td>NaN</td>\n",
              "      <td>Калининградская область</td>\n",
              "      <td>0</td>\n",
              "      <td>Россия</td>\n",
              "      <td>СКАЗОЧНЫЕ ДЕСЕРТЫ С ВИДОМ НА МОРЕ\\nВстречайте,...</td>\n",
              "      <td>Личный профиль</td>\n",
              "      <td>Соцсети</td>\n",
              "      <td>Пост</td>\n",
              "      <td>NaN</td>\n",
              "      <td>Русский</td>\n",
              "    </tr>\n",
              "    <tr>\n",
              "      <th>4</th>\n",
              "      <td>5</td>\n",
              "      <td>09.05.2023 21:41</td>\n",
              "      <td>vk.com</td>\n",
              "      <td>Калининград</td>\n",
              "      <td>NaN</td>\n",
              "      <td>skip</td>\n",
              "      <td>3</td>\n",
              "      <td>приезжая в зеленоградск или светлогорск я хочу...</td>\n",
              "      <td>76576</td>\n",
              "      <td>0</td>\n",
              "      <td>...</td>\n",
              "      <td>NaN</td>\n",
              "      <td>Калининградская область</td>\n",
              "      <td>0</td>\n",
              "      <td>Россия</td>\n",
              "      <td>Приезжая в Зеленоградск или Светлогорск я хочу...</td>\n",
              "      <td>Личный профиль</td>\n",
              "      <td>Соцсети</td>\n",
              "      <td>Комментарий</td>\n",
              "      <td>NaN</td>\n",
              "      <td>Русский</td>\n",
              "    </tr>\n",
              "  </tbody>\n",
              "</table>\n",
              "<p>5 rows × 28 columns</p>\n",
              "</div>\n",
              "    <div class=\"colab-df-buttons\">\n",
              "\n",
              "  <div class=\"colab-df-container\">\n",
              "    <button class=\"colab-df-convert\" onclick=\"convertToInteractive('df-512e39f8-8ecd-426b-9f43-ac617cdd4ab7')\"\n",
              "            title=\"Convert this dataframe to an interactive table.\"\n",
              "            style=\"display:none;\">\n",
              "\n",
              "  <svg xmlns=\"http://www.w3.org/2000/svg\" height=\"24px\" viewBox=\"0 -960 960 960\">\n",
              "    <path d=\"M120-120v-720h720v720H120Zm60-500h600v-160H180v160Zm220 220h160v-160H400v160Zm0 220h160v-160H400v160ZM180-400h160v-160H180v160Zm440 0h160v-160H620v160ZM180-180h160v-160H180v160Zm440 0h160v-160H620v160Z\"/>\n",
              "  </svg>\n",
              "    </button>\n",
              "\n",
              "  <style>\n",
              "    .colab-df-container {\n",
              "      display:flex;\n",
              "      gap: 12px;\n",
              "    }\n",
              "\n",
              "    .colab-df-convert {\n",
              "      background-color: #E8F0FE;\n",
              "      border: none;\n",
              "      border-radius: 50%;\n",
              "      cursor: pointer;\n",
              "      display: none;\n",
              "      fill: #1967D2;\n",
              "      height: 32px;\n",
              "      padding: 0 0 0 0;\n",
              "      width: 32px;\n",
              "    }\n",
              "\n",
              "    .colab-df-convert:hover {\n",
              "      background-color: #E2EBFA;\n",
              "      box-shadow: 0px 1px 2px rgba(60, 64, 67, 0.3), 0px 1px 3px 1px rgba(60, 64, 67, 0.15);\n",
              "      fill: #174EA6;\n",
              "    }\n",
              "\n",
              "    .colab-df-buttons div {\n",
              "      margin-bottom: 4px;\n",
              "    }\n",
              "\n",
              "    [theme=dark] .colab-df-convert {\n",
              "      background-color: #3B4455;\n",
              "      fill: #D2E3FC;\n",
              "    }\n",
              "\n",
              "    [theme=dark] .colab-df-convert:hover {\n",
              "      background-color: #434B5C;\n",
              "      box-shadow: 0px 1px 3px 1px rgba(0, 0, 0, 0.15);\n",
              "      filter: drop-shadow(0px 1px 2px rgba(0, 0, 0, 0.3));\n",
              "      fill: #FFFFFF;\n",
              "    }\n",
              "  </style>\n",
              "\n",
              "    <script>\n",
              "      const buttonEl =\n",
              "        document.querySelector('#df-512e39f8-8ecd-426b-9f43-ac617cdd4ab7 button.colab-df-convert');\n",
              "      buttonEl.style.display =\n",
              "        google.colab.kernel.accessAllowed ? 'block' : 'none';\n",
              "\n",
              "      async function convertToInteractive(key) {\n",
              "        const element = document.querySelector('#df-512e39f8-8ecd-426b-9f43-ac617cdd4ab7');\n",
              "        const dataTable =\n",
              "          await google.colab.kernel.invokeFunction('convertToInteractive',\n",
              "                                                    [key], {});\n",
              "        if (!dataTable) return;\n",
              "\n",
              "        const docLinkHtml = 'Like what you see? Visit the ' +\n",
              "          '<a target=\"_blank\" href=https://colab.research.google.com/notebooks/data_table.ipynb>data table notebook</a>'\n",
              "          + ' to learn more about interactive tables.';\n",
              "        element.innerHTML = '';\n",
              "        dataTable['output_type'] = 'display_data';\n",
              "        await google.colab.output.renderOutput(dataTable, element);\n",
              "        const docLink = document.createElement('div');\n",
              "        docLink.innerHTML = docLinkHtml;\n",
              "        element.appendChild(docLink);\n",
              "      }\n",
              "    </script>\n",
              "  </div>\n",
              "\n",
              "\n",
              "<div id=\"df-09a049e4-a0ce-4f7d-8c6a-2f9db8e4f40d\">\n",
              "  <button class=\"colab-df-quickchart\" onclick=\"quickchart('df-09a049e4-a0ce-4f7d-8c6a-2f9db8e4f40d')\"\n",
              "            title=\"Suggest charts\"\n",
              "            style=\"display:none;\">\n",
              "\n",
              "<svg xmlns=\"http://www.w3.org/2000/svg\" height=\"24px\"viewBox=\"0 0 24 24\"\n",
              "     width=\"24px\">\n",
              "    <g>\n",
              "        <path d=\"M19 3H5c-1.1 0-2 .9-2 2v14c0 1.1.9 2 2 2h14c1.1 0 2-.9 2-2V5c0-1.1-.9-2-2-2zM9 17H7v-7h2v7zm4 0h-2V7h2v10zm4 0h-2v-4h2v4z\"/>\n",
              "    </g>\n",
              "</svg>\n",
              "  </button>\n",
              "\n",
              "<style>\n",
              "  .colab-df-quickchart {\n",
              "      --bg-color: #E8F0FE;\n",
              "      --fill-color: #1967D2;\n",
              "      --hover-bg-color: #E2EBFA;\n",
              "      --hover-fill-color: #174EA6;\n",
              "      --disabled-fill-color: #AAA;\n",
              "      --disabled-bg-color: #DDD;\n",
              "  }\n",
              "\n",
              "  [theme=dark] .colab-df-quickchart {\n",
              "      --bg-color: #3B4455;\n",
              "      --fill-color: #D2E3FC;\n",
              "      --hover-bg-color: #434B5C;\n",
              "      --hover-fill-color: #FFFFFF;\n",
              "      --disabled-bg-color: #3B4455;\n",
              "      --disabled-fill-color: #666;\n",
              "  }\n",
              "\n",
              "  .colab-df-quickchart {\n",
              "    background-color: var(--bg-color);\n",
              "    border: none;\n",
              "    border-radius: 50%;\n",
              "    cursor: pointer;\n",
              "    display: none;\n",
              "    fill: var(--fill-color);\n",
              "    height: 32px;\n",
              "    padding: 0;\n",
              "    width: 32px;\n",
              "  }\n",
              "\n",
              "  .colab-df-quickchart:hover {\n",
              "    background-color: var(--hover-bg-color);\n",
              "    box-shadow: 0 1px 2px rgba(60, 64, 67, 0.3), 0 1px 3px 1px rgba(60, 64, 67, 0.15);\n",
              "    fill: var(--button-hover-fill-color);\n",
              "  }\n",
              "\n",
              "  .colab-df-quickchart-complete:disabled,\n",
              "  .colab-df-quickchart-complete:disabled:hover {\n",
              "    background-color: var(--disabled-bg-color);\n",
              "    fill: var(--disabled-fill-color);\n",
              "    box-shadow: none;\n",
              "  }\n",
              "\n",
              "  .colab-df-spinner {\n",
              "    border: 2px solid var(--fill-color);\n",
              "    border-color: transparent;\n",
              "    border-bottom-color: var(--fill-color);\n",
              "    animation:\n",
              "      spin 1s steps(1) infinite;\n",
              "  }\n",
              "\n",
              "  @keyframes spin {\n",
              "    0% {\n",
              "      border-color: transparent;\n",
              "      border-bottom-color: var(--fill-color);\n",
              "      border-left-color: var(--fill-color);\n",
              "    }\n",
              "    20% {\n",
              "      border-color: transparent;\n",
              "      border-left-color: var(--fill-color);\n",
              "      border-top-color: var(--fill-color);\n",
              "    }\n",
              "    30% {\n",
              "      border-color: transparent;\n",
              "      border-left-color: var(--fill-color);\n",
              "      border-top-color: var(--fill-color);\n",
              "      border-right-color: var(--fill-color);\n",
              "    }\n",
              "    40% {\n",
              "      border-color: transparent;\n",
              "      border-right-color: var(--fill-color);\n",
              "      border-top-color: var(--fill-color);\n",
              "    }\n",
              "    60% {\n",
              "      border-color: transparent;\n",
              "      border-right-color: var(--fill-color);\n",
              "    }\n",
              "    80% {\n",
              "      border-color: transparent;\n",
              "      border-right-color: var(--fill-color);\n",
              "      border-bottom-color: var(--fill-color);\n",
              "    }\n",
              "    90% {\n",
              "      border-color: transparent;\n",
              "      border-bottom-color: var(--fill-color);\n",
              "    }\n",
              "  }\n",
              "</style>\n",
              "\n",
              "  <script>\n",
              "    async function quickchart(key) {\n",
              "      const quickchartButtonEl =\n",
              "        document.querySelector('#' + key + ' button');\n",
              "      quickchartButtonEl.disabled = true;  // To prevent multiple clicks.\n",
              "      quickchartButtonEl.classList.add('colab-df-spinner');\n",
              "      try {\n",
              "        const charts = await google.colab.kernel.invokeFunction(\n",
              "            'suggestCharts', [key], {});\n",
              "      } catch (error) {\n",
              "        console.error('Error during call to suggestCharts:', error);\n",
              "      }\n",
              "      quickchartButtonEl.classList.remove('colab-df-spinner');\n",
              "      quickchartButtonEl.classList.add('colab-df-quickchart-complete');\n",
              "    }\n",
              "    (() => {\n",
              "      let quickchartButtonEl =\n",
              "        document.querySelector('#df-09a049e4-a0ce-4f7d-8c6a-2f9db8e4f40d button');\n",
              "      quickchartButtonEl.style.display =\n",
              "        google.colab.kernel.accessAllowed ? 'block' : 'none';\n",
              "    })();\n",
              "  </script>\n",
              "</div>\n",
              "    </div>\n",
              "  </div>\n"
            ],
            "text/plain": [
              "   id              Дата       Источник         Город Заголовок Тональность  \\\n",
              "0   1  08.10.2023 14:54  instagram.com  Зеленоградск       NaN    positive   \n",
              "1   2  08.10.2023 11:17  instagram.com  Зеленоградск       NaN    positive   \n",
              "2   3  09.05.2023 22:38  instagram.com   Светлогорск       NaN    positive   \n",
              "3   4  08.10.2023 10:02  instagram.com   Калининград       NaN     neutral   \n",
              "4   5  09.05.2023 21:41         vk.com   Калининград       NaN        skip   \n",
              "\n",
              "   Clusters                                 обработанный_текст  Аудитория  \\\n",
              "0         3  хочется уехать на неделю в зеленоградск  снять...        700   \n",
              "1         3  прекрасные города зеленоградск и светлогорск н...        564   \n",
              "2         3  светлогорск и зеленоградск   города  которым п...        210   \n",
              "3         3  сказочные десерты с видом на море встречайте  ...      53426   \n",
              "4         3  приезжая в зеленоградск или светлогорск я хочу...      76576   \n",
              "\n",
              "   Вовлеченность  ...  Просмотров                   Регион  Репостов  Страна  \\\n",
              "0              0  ...         NaN  Калининградская область         0  Россия   \n",
              "1              1  ...         NaN  Калининградская область         0  Россия   \n",
              "2              0  ...         NaN  Калининградская область         0  Россия   \n",
              "3              0  ...         NaN  Калининградская область         0  Россия   \n",
              "4              0  ...         NaN  Калининградская область         0  Россия   \n",
              "\n",
              "                                               Текст      Тип автора  \\\n",
              "0  Хочется уехать на неделю в Зеленоградск, снять...  Личный профиль   \n",
              "1  Прекрасные города Зеленоградск и Светлогорск н...  Личный профиль   \n",
              "2  Светлогорск и Зеленоградск-  города, которым п...  Личный профиль   \n",
              "3  СКАЗОЧНЫЕ ДЕСЕРТЫ С ВИДОМ НА МОРЕ\\nВстречайте,...  Личный профиль   \n",
              "4  Приезжая в Зеленоградск или Светлогорск я хочу...  Личный профиль   \n",
              "\n",
              "  Тип источника Тип сообщения  Цитируемость СМИ     Язык  \n",
              "0       Соцсети          Пост               NaN  Русский  \n",
              "1       Соцсети          Пост               NaN  Русский  \n",
              "2       Соцсети          Пост               NaN  Русский  \n",
              "3       Соцсети          Пост               NaN  Русский  \n",
              "4       Соцсети   Комментарий               NaN  Русский  \n",
              "\n",
              "[5 rows x 28 columns]"
            ]
          },
          "execution_count": 16,
          "metadata": {},
          "output_type": "execute_result"
        }
      ],
      "source": [
        "pf.head()"
      ]
    },
    {
      "cell_type": "code",
      "execution_count": null,
      "metadata": {
        "colab": {
          "base_uri": "https://localhost:8080/"
        },
        "id": "eaxwxBDXrFFO",
        "outputId": "7b079c01-1e27-4391-a1cd-c7b312124d28"
      },
      "outputs": [
        {
          "name": "stdout",
          "output_type": "stream",
          "text": [
            "Requirement already satisfied: gensim in /usr/local/lib/python3.10/dist-packages (4.3.2)\n",
            "Requirement already satisfied: numpy>=1.18.5 in /usr/local/lib/python3.10/dist-packages (from gensim) (1.25.2)\n",
            "Requirement already satisfied: scipy>=1.7.0 in /usr/local/lib/python3.10/dist-packages (from gensim) (1.11.4)\n",
            "Requirement already satisfied: smart-open>=1.8.1 in /usr/local/lib/python3.10/dist-packages (from gensim) (6.4.0)\n"
          ]
        }
      ],
      "source": [
        "pip install gensim"
      ]
    },
    {
      "cell_type": "code",
      "execution_count": null,
      "metadata": {
        "colab": {
          "base_uri": "https://localhost:8080/"
        },
        "id": "nL2qIIWkrGds",
        "outputId": "538e219a-6def-43b4-b62b-3684a41fab88"
      },
      "outputs": [
        {
          "name": "stdout",
          "output_type": "stream",
          "text": [
            "Collecting python-Levenshtein\n",
            "  Downloading python_Levenshtein-0.25.0-py3-none-any.whl (9.4 kB)\n",
            "Collecting Levenshtein==0.25.0 (from python-Levenshtein)\n",
            "  Downloading Levenshtein-0.25.0-cp310-cp310-manylinux_2_17_x86_64.manylinux2014_x86_64.whl (177 kB)\n",
            "\u001b[2K     \u001b[90m━━━━━━━━━━━━━━━━━━━━━━━━━━━━━━━━━━━━━━━━\u001b[0m \u001b[32m177.4/177.4 kB\u001b[0m \u001b[31m4.1 MB/s\u001b[0m eta \u001b[36m0:00:00\u001b[0m\n",
            "\u001b[?25hCollecting rapidfuzz<4.0.0,>=3.1.0 (from Levenshtein==0.25.0->python-Levenshtein)\n",
            "  Downloading rapidfuzz-3.6.1-cp310-cp310-manylinux_2_17_x86_64.manylinux2014_x86_64.whl (3.4 MB)\n",
            "\u001b[2K     \u001b[90m━━━━━━━━━━━━━━━━━━━━━━━━━━━━━━━━━━━━━━━━\u001b[0m \u001b[32m3.4/3.4 MB\u001b[0m \u001b[31m11.8 MB/s\u001b[0m eta \u001b[36m0:00:00\u001b[0m\n",
            "\u001b[?25hInstalling collected packages: rapidfuzz, Levenshtein, python-Levenshtein\n",
            "Successfully installed Levenshtein-0.25.0 python-Levenshtein-0.25.0 rapidfuzz-3.6.1\n"
          ]
        }
      ],
      "source": [
        "pip install python-Levenshtein"
      ]
    },
    {
      "cell_type": "code",
      "execution_count": null,
      "metadata": {
        "colab": {
          "base_uri": "https://localhost:8080/"
        },
        "id": "PmmnLbjhr2J_",
        "outputId": "1e3d4c26-3950-4e6a-de8a-68f9897af6bd"
      },
      "outputs": [
        {
          "data": {
            "text/plain": [
              "(3212, 28)"
            ]
          },
          "execution_count": 20,
          "metadata": {},
          "output_type": "execute_result"
        }
      ],
      "source": [
        "pf.shape"
      ]
    },
    {
      "cell_type": "code",
      "execution_count": null,
      "metadata": {
        "id": "1k7iPl6qr3Xd"
      },
      "outputs": [],
      "source": [
        "df=pf"
      ]
    },
    {
      "cell_type": "code",
      "execution_count": null,
      "metadata": {
        "colab": {
          "base_uri": "https://localhost:8080/"
        },
        "id": "OuseVa-1r3vs",
        "outputId": "2bb8123b-211d-42cf-ab88-82dd59939973"
      },
      "outputs": [
        {
          "data": {
            "text/plain": [
              "0       хочется уехать на неделю в зеленоградск  снять...\n",
              "1       прекрасные города зеленоградск и светлогорск н...\n",
              "2       светлогорск и зеленоградск   города  которым п...\n",
              "3       сказочные десерты с видом на море встречайте  ...\n",
              "4       приезжая в зеленоградск или светлогорск я хочу...\n",
              "                              ...                        \n",
              "3207    я их могу снимать вечно    светлогорск  калини...\n",
              "3208    25 ноября театрализованное огненное представле...\n",
              "3209    все мы знаем  что сейчас выход к морю в светло...\n",
              "3210    светлогорск  ранее известный как раушен  был и...\n",
              "3211    прогулка по г  светлогорск    калининградскаяо...\n",
              "Name: обработанный_текст, Length: 3212, dtype: object"
            ]
          },
          "execution_count": 22,
          "metadata": {},
          "output_type": "execute_result"
        }
      ],
      "source": [
        "df.обработанный_текст"
      ]
    },
    {
      "cell_type": "code",
      "execution_count": null,
      "metadata": {
        "colab": {
          "base_uri": "https://localhost:8080/",
          "height": 53
        },
        "id": "xTTwqCJ6r387",
        "outputId": "b617176c-a63e-4d80-def1-6da412d1cdf6"
      },
      "outputs": [
        {
          "data": {
            "application/vnd.google.colaboratory.intrinsic+json": {
              "type": "string"
            },
            "text/plain": [
              "'хочется уехать на неделю в зеленоградск  снять какой нибудь домик среди деревьев и в паре минут от балтийского моря    новая мечта    калининград  светлогорск  зеленоградск  балтийскоеморе  путешествие  море  отпуск  балтика  kaliningrad  sea  baltimore  holiday  love  lovely  russia  взаимныелайки  likes4likes  likesforlikes  мечта  dream'"
            ]
          },
          "execution_count": 23,
          "metadata": {},
          "output_type": "execute_result"
        }
      ],
      "source": [
        "df.обработанный_текст[0]"
      ]
    },
    {
      "cell_type": "code",
      "execution_count": null,
      "metadata": {
        "id": "jja08AFvs0ch"
      },
      "outputs": [],
      "source": [
        "import gensim"
      ]
    },
    {
      "cell_type": "code",
      "execution_count": null,
      "metadata": {
        "colab": {
          "base_uri": "https://localhost:8080/"
        },
        "id": "H6Ses8L-r4Kn",
        "outputId": "c33fb79d-f157-47a4-c4b8-d9d5181916c0"
      },
      "outputs": [
        {
          "data": {
            "text/plain": [
              "['хочется',\n",
              " 'уехать',\n",
              " 'на',\n",
              " 'неделю',\n",
              " 'зеленоградск',\n",
              " 'снять',\n",
              " 'какой',\n",
              " 'нибудь',\n",
              " 'домик',\n",
              " 'среди',\n",
              " 'деревьев',\n",
              " 'паре',\n",
              " 'минут',\n",
              " 'от',\n",
              " 'балтийского',\n",
              " 'моря',\n",
              " 'новая',\n",
              " 'мечта',\n",
              " 'калининград',\n",
              " 'светлогорск',\n",
              " 'зеленоградск',\n",
              " 'балтийскоеморе',\n",
              " 'путешествие',\n",
              " 'море',\n",
              " 'отпуск',\n",
              " 'балтика',\n",
              " 'kaliningrad',\n",
              " 'sea',\n",
              " 'baltimore',\n",
              " 'holiday',\n",
              " 'love',\n",
              " 'lovely',\n",
              " 'russia',\n",
              " 'взаимныелайки',\n",
              " 'likes',\n",
              " 'likes',\n",
              " 'likesforlikes',\n",
              " 'мечта',\n",
              " 'dream']"
            ]
          },
          "execution_count": 26,
          "metadata": {},
          "output_type": "execute_result"
        }
      ],
      "source": [
        "gensim.utils.simple_preprocess('хочется уехать на неделю в зеленоградск  снять какой нибудь домик среди деревьев и в паре минут от балтийского моря    новая мечта    калининград  светлогорск  зеленоградск  балтийскоеморе  путешествие  море  отпуск  балтика  kaliningrad  sea  baltimore  holiday  love  lovely  russia  взаимныелайки  likes4likes  likesforlikes  мечта  dream')"
      ]
    },
    {
      "cell_type": "code",
      "execution_count": null,
      "metadata": {
        "id": "eClJevOLsc0J"
      },
      "outputs": [],
      "source": [
        "rewiew = df.обработанный_текст.apply(gensim.utils.simple_preprocess)"
      ]
    },
    {
      "cell_type": "code",
      "execution_count": null,
      "metadata": {
        "colab": {
          "base_uri": "https://localhost:8080/"
        },
        "id": "krVAoJaZsc8q",
        "outputId": "63ec466d-e3c0-4882-c02a-5a31d9b1b6f9"
      },
      "outputs": [
        {
          "data": {
            "text/plain": [
              "0    [хочется, уехать, на, неделю, зеленоградск, сн...\n",
              "1    [прекрасные, города, зеленоградск, светлогорск...\n",
              "2    [светлогорск, зеленоградск, города, которым, п...\n",
              "3    [сказочные, десерты, видом, на, море, встречай...\n",
              "4    [приезжая, зеленоградск, или, светлогорск, хоч...\n",
              "Name: обработанный_текст, dtype: object"
            ]
          },
          "execution_count": 29,
          "metadata": {},
          "output_type": "execute_result"
        }
      ],
      "source": [
        "rewiew.head()"
      ]
    },
    {
      "cell_type": "code",
      "execution_count": null,
      "metadata": {
        "id": "tXLtWvbLsdEP"
      },
      "outputs": [],
      "source": [
        "model.build_vocab(rewiew, progress_per=1000)"
      ]
    },
    {
      "cell_type": "code",
      "execution_count": null,
      "metadata": {
        "id": "cRpGVRxzsdAf"
      },
      "outputs": [],
      "source": [
        "model = gensim.models.Word2Vec(workers=4, min_count=3, window=5)"
      ]
    },
    {
      "cell_type": "code",
      "execution_count": null,
      "metadata": {
        "colab": {
          "base_uri": "https://localhost:8080/"
        },
        "id": "KOJEANWHsdHH",
        "outputId": "01b2217a-0cd8-462f-ca5e-d8ad6eb098e1"
      },
      "outputs": [
        {
          "data": {
            "text/plain": [
              "5"
            ]
          },
          "execution_count": 41,
          "metadata": {},
          "output_type": "execute_result"
        }
      ],
      "source": [
        "model.epochs"
      ]
    },
    {
      "cell_type": "code",
      "execution_count": null,
      "metadata": {
        "colab": {
          "base_uri": "https://localhost:8080/"
        },
        "id": "aabqGeJAuwIO",
        "outputId": "fa73ad21-1604-4278-c267-97e38da6129f"
      },
      "outputs": [
        {
          "data": {
            "text/plain": [
              "3212"
            ]
          },
          "execution_count": 42,
          "metadata": {},
          "output_type": "execute_result"
        }
      ],
      "source": [
        "model.corpus_count"
      ]
    },
    {
      "cell_type": "code",
      "execution_count": null,
      "metadata": {
        "colab": {
          "base_uri": "https://localhost:8080/"
        },
        "id": "40423vp5sdKI",
        "outputId": "0431b60d-03a5-45e8-a253-5c1ed5e8e0b9"
      },
      "outputs": [
        {
          "data": {
            "text/plain": [
              "(631826, 865870)"
            ]
          },
          "execution_count": 43,
          "metadata": {},
          "output_type": "execute_result"
        }
      ],
      "source": [
        "model.train(rewiew, total_examples=model.corpus_count, epochs=model.epochs)"
      ]
    },
    {
      "cell_type": "code",
      "execution_count": null,
      "metadata": {
        "id": "IqplY23nsdM0"
      },
      "outputs": [],
      "source": [
        "model.save(\"model-wordtovec.model\")"
      ]
    },
    {
      "cell_type": "code",
      "execution_count": null,
      "metadata": {
        "colab": {
          "base_uri": "https://localhost:8080/"
        },
        "id": "DgEVlNqNsdS3",
        "outputId": "aa77642b-1d25-4027-8102-e1f56fd33a24"
      },
      "outputs": [
        {
          "data": {
            "text/plain": [
              "[('область', 0.9809021949768066),\n",
              " ('калининградскую', 0.9764983654022217),\n",
              " ('пляж', 0.9745587706565857),\n",
              " ('купелью', 0.9640243053436279),\n",
              " ('калининградская', 0.9582871794700623),\n",
              " ('муниципальный', 0.9471089839935303),\n",
              " ('выкатило', 0.9391931295394897),\n",
              " ('балтийское', 0.9388718008995056),\n",
              " ('kesh', 0.9257566332817078),\n",
              " ('дзержинского', 0.9247579574584961),\n",
              " ('сентября', 0.9190939664840698),\n",
              " ('балтийском', 0.9170266389846802),\n",
              " ('славится', 0.9150015711784363),\n",
              " ('купалась', 0.9109421372413635),\n",
              " ('мореморе', 0.9089299440383911),\n",
              " ('моресолнцепляж', 0.8962417244911194),\n",
              " ('закат', 0.8914080262184143),\n",
              " ('приезднаташи', 0.8885857462882996),\n",
              " ('янтарныйкрай', 0.8884109258651733),\n",
              " ('холодным', 0.888185441493988),\n",
              " ('сентябрь', 0.8878876566886902),\n",
              " ('ostsea', 0.8873004913330078),\n",
              " ('историями', 0.8858346343040466),\n",
              " ('мойвзгляд', 0.8775956630706787),\n",
              " ('balticsea', 0.8763312101364136),\n",
              " ('балтика', 0.875178873538971),\n",
              " ('балтийскоеморе', 0.8737244009971619),\n",
              " ('копилочку', 0.8726602792739868),\n",
              " ('дрона', 0.8722348809242249),\n",
              " ('sea', 0.8720572590827942),\n",
              " ('мечтысбываются', 0.8670751452445984),\n",
              " ('ежегодный', 0.8637356758117676),\n",
              " ('svetlogorsk', 0.8626030087471008),\n",
              " ('светлогорск', 0.8616197109222412),\n",
              " ('счастьевмелочах', 0.8602567315101624),\n",
              " ('россия', 0.8589577674865723),\n",
              " ('sapboard', 0.8581480383872986),\n",
              " ('расположена', 0.8538236021995544),\n",
              " ('lashcolor', 0.8494566679000854),\n",
              " ('мыстаран', 0.8472043871879578),\n",
              " ('музейянтаря', 0.845259964466095),\n",
              " ('ласковое', 0.8446094393730164),\n",
              " ('бархатный', 0.8444098234176636),\n",
              " ('жизньпрекрасна', 0.843564510345459),\n",
              " ('малые', 0.8428211212158203),\n",
              " ('weekend', 0.8424724340438843),\n",
              " ('russia', 0.8416000604629517),\n",
              " ('рублевка', 0.841252326965332),\n",
              " ('отпуск', 0.8402712941169739),\n",
              " ('дзене', 0.8402454853057861),\n",
              " ('пленка', 0.8385987281799316),\n",
              " ('квартирауморя', 0.836546778678894),\n",
              " ('travel', 0.8363513350486755),\n",
              " ('сыр', 0.8359772562980652),\n",
              " ('версии', 0.8348218202590942),\n",
              " ('обл', 0.8341821432113647),\n",
              " ('прохладное', 0.8340990543365479),\n",
              " ('янтарный', 0.8335900902748108),\n",
              " ('путешествуй', 0.8332691788673401),\n",
              " ('ейск', 0.8328793048858643),\n",
              " ('русскаяевропа', 0.8324784636497498),\n",
              " ('проходил', 0.8320594429969788),\n",
              " ('поехать', 0.8315215110778809),\n",
              " ('филинскаябухта', 0.8295711278915405),\n",
              " ('кенингсберг', 0.8284552693367004),\n",
              " ('мирмоимиглазами', 0.8261434435844421),\n",
              " ('осень', 0.8256626129150391),\n",
              " ('sunset', 0.8248458504676819),\n",
              " ('ostpeussen', 0.8247261643409729),\n",
              " ('балтийск', 0.8203595280647278),\n",
              " ('asti', 0.8202959299087524),\n",
              " ('architecture', 0.8187838792800903),\n",
              " ('гр', 0.8187485337257385),\n",
              " ('блог', 0.8187138438224792),\n",
              " ('лето', 0.8172715902328491),\n",
              " ('baltimore', 0.8170756697654724),\n",
              " ('baltic', 0.8164682984352112),\n",
              " ('красивыеместа', 0.8164420127868652),\n",
              " ('autumn', 0.8141510486602783),\n",
              " ('демонтаж', 0.810714602470398),\n",
              " ('похоже', 0.8096858263015747),\n",
              " ('внутри', 0.8079977631568909),\n",
              " ('люблюморе', 0.806995689868927),\n",
              " ('фестиваль', 0.8066250681877136),\n",
              " ('балтийскийберег', 0.8061245679855347),\n",
              " ('нашими', 0.8053444623947144),\n",
              " ('безфильтров', 0.8050427436828613),\n",
              " ('куршскаякоса', 0.8040551543235779),\n",
              " ('raushen', 0.8040138483047485),\n",
              " ('zelenogradsk', 0.8040041923522949),\n",
              " ('регион', 0.8028863072395325),\n",
              " ('summervibes', 0.8018447756767273),\n",
              " ('золотаяосень', 0.8017995953559875),\n",
              " ('отдыхающему', 0.8010841012001038),\n",
              " ('постом', 0.8009424209594727),\n",
              " ('янтарныйпляж', 0.8008164763450623),\n",
              " ('путешествие', 0.8006801009178162),\n",
              " ('округ', 0.8006721138954163),\n",
              " ('невероятным', 0.8001367449760437),\n",
              " ('обнимет', 0.7996604442596436)]"
            ]
          },
          "execution_count": 49,
          "metadata": {},
          "output_type": "execute_result"
        }
      ],
      "source": [
        "model.wv.most_similar(\"море\", topn=100)"
      ]
    },
    {
      "cell_type": "code",
      "execution_count": null,
      "metadata": {
        "colab": {
          "base_uri": "https://localhost:8080/"
        },
        "id": "J2DZpOXSsdWo",
        "outputId": "0819696d-4b00-4566-ad53-0ab98536d981"
      },
      "outputs": [
        {
          "data": {
            "text/plain": [
              "0.8751789"
            ]
          },
          "execution_count": 45,
          "metadata": {},
          "output_type": "execute_result"
        }
      ],
      "source": [
        "model.wv.similarity(w1=\"море\", w2=\"балтика\")"
      ]
    },
    {
      "cell_type": "code",
      "execution_count": null,
      "metadata": {
        "colab": {
          "base_uri": "https://localhost:8080/"
        },
        "id": "d_t9Sb-BsdZ0",
        "outputId": "d1ef36fd-0a90-40c3-aaa5-4a87db7528c1"
      },
      "outputs": [
        {
          "data": {
            "text/plain": [
              "0.9745586"
            ]
          },
          "execution_count": 46,
          "metadata": {},
          "output_type": "execute_result"
        }
      ],
      "source": [
        "model.wv.similarity(w1=\"море\", w2=\"пляж\")"
      ]
    }
  ],
  "metadata": {
    "colab": {
      "provenance": [],
      "mount_file_id": "146_liYHOklmJ9QPLZs7BGuPcAUTM2ZuS",
      "authorship_tag": "ABX9TyM26cIqqni1EaE/NaRjFy6u",
      "include_colab_link": true
    },
    "kernelspec": {
      "display_name": "Python 3",
      "name": "python3"
    },
    "language_info": {
      "name": "python"
    }
  },
  "nbformat": 4,
  "nbformat_minor": 0
}